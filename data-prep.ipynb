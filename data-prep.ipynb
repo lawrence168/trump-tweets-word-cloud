{
 "cells": [
  {
   "cell_type": "code",
   "execution_count": 1,
   "metadata": {},
   "outputs": [],
   "source": [
    "import json\n",
    "import os\n",
    "import urllib.request\n",
    "import pandas as pd"
   ]
  },
  {
   "cell_type": "code",
   "execution_count": 2,
   "metadata": {},
   "outputs": [],
   "source": [
    "%mkdir -p raw_data"
   ]
  },
  {
   "cell_type": "code",
   "execution_count": 3,
   "metadata": {},
   "outputs": [],
   "source": [
    "current_year = 2019"
   ]
  },
  {
   "cell_type": "code",
   "execution_count": 4,
   "metadata": {},
   "outputs": [],
   "source": [
    "# link pattern obtained from https://github.com/bpb27/political_twitter_archive/issues/2\n",
    "url_pattern = 'http://www.trumptwitterarchive.com/data/realdonaldtrump/{year}.json'\n",
    "years = list(range(2010, current_year+1))"
   ]
  },
  {
   "cell_type": "code",
   "execution_count": 5,
   "metadata": {},
   "outputs": [
    {
     "name": "stdout",
     "output_type": "stream",
     "text": [
      "2019\n"
     ]
    }
   ],
   "source": [
    "for year in years:\n",
    "    filename = f'raw_data/{year}.json'\n",
    "    url = url_pattern.format(year=year)\n",
    "    if not os.path.exists(filename) or year == current_year:\n",
    "        print(year)\n",
    "        urllib.request.urlretrieve(url, filename)"
   ]
  },
  {
   "cell_type": "code",
   "execution_count": 6,
   "metadata": {},
   "outputs": [
    {
     "data": {
      "text/html": [
       "<div>\n",
       "<style scoped>\n",
       "    .dataframe tbody tr th:only-of-type {\n",
       "        vertical-align: middle;\n",
       "    }\n",
       "\n",
       "    .dataframe tbody tr th {\n",
       "        vertical-align: top;\n",
       "    }\n",
       "\n",
       "    .dataframe thead th {\n",
       "        text-align: right;\n",
       "    }\n",
       "</style>\n",
       "<table border=\"1\" class=\"dataframe\">\n",
       "  <thead>\n",
       "    <tr style=\"text-align: right;\">\n",
       "      <th></th>\n",
       "      <th>created_at</th>\n",
       "      <th>favorite_count</th>\n",
       "      <th>id_str</th>\n",
       "      <th>in_reply_to_user_id_str</th>\n",
       "      <th>is_retweet</th>\n",
       "      <th>retweet_count</th>\n",
       "      <th>source</th>\n",
       "      <th>text</th>\n",
       "    </tr>\n",
       "  </thead>\n",
       "  <tbody>\n",
       "    <tr>\n",
       "      <th>0</th>\n",
       "      <td>2019-08-16 02:52:05</td>\n",
       "      <td>28889</td>\n",
       "      <td>1162195296924946433</td>\n",
       "      <td>None</td>\n",
       "      <td>False</td>\n",
       "      <td>8031</td>\n",
       "      <td>Twitter for iPhone</td>\n",
       "      <td>Great news! Tonight, we broke the all-time att...</td>\n",
       "    </tr>\n",
       "    <tr>\n",
       "      <th>1</th>\n",
       "      <td>2019-08-16 01:33:22</td>\n",
       "      <td>38139</td>\n",
       "      <td>1162175486560280577</td>\n",
       "      <td>None</td>\n",
       "      <td>False</td>\n",
       "      <td>10021</td>\n",
       "      <td>Twitter for iPhone</td>\n",
       "      <td>Thank you New Hampshire. KEEP AMERICA GREAT! #...</td>\n",
       "    </tr>\n",
       "    <tr>\n",
       "      <th>2</th>\n",
       "      <td>2019-08-16 01:18:43</td>\n",
       "      <td>28595</td>\n",
       "      <td>1162171796709265408</td>\n",
       "      <td>None</td>\n",
       "      <td>False</td>\n",
       "      <td>8745</td>\n",
       "      <td>Twitter for iPhone</td>\n",
       "      <td>https://t.co/TCg6dLoIya</td>\n",
       "    </tr>\n",
       "    <tr>\n",
       "      <th>3</th>\n",
       "      <td>2019-08-15 20:18:25</td>\n",
       "      <td>60884</td>\n",
       "      <td>1162096224486510592</td>\n",
       "      <td>None</td>\n",
       "      <td>False</td>\n",
       "      <td>15573</td>\n",
       "      <td>Twitter for iPhone</td>\n",
       "      <td>Walmart, a great indicator as to how the U.S. ...</td>\n",
       "    </tr>\n",
       "    <tr>\n",
       "      <th>4</th>\n",
       "      <td>2019-08-15 20:14:16</td>\n",
       "      <td>43127</td>\n",
       "      <td>1162095183082729475</td>\n",
       "      <td>None</td>\n",
       "      <td>False</td>\n",
       "      <td>11107</td>\n",
       "      <td>Twitter for iPhone</td>\n",
       "      <td>“If they don’t get this Trade Deal with the U....</td>\n",
       "    </tr>\n",
       "  </tbody>\n",
       "</table>\n",
       "</div>"
      ],
      "text/plain": [
       "           created_at  favorite_count               id_str  \\\n",
       "0 2019-08-16 02:52:05           28889  1162195296924946433   \n",
       "1 2019-08-16 01:33:22           38139  1162175486560280577   \n",
       "2 2019-08-16 01:18:43           28595  1162171796709265408   \n",
       "3 2019-08-15 20:18:25           60884  1162096224486510592   \n",
       "4 2019-08-15 20:14:16           43127  1162095183082729475   \n",
       "\n",
       "  in_reply_to_user_id_str  is_retweet  retweet_count              source  \\\n",
       "0                    None       False           8031  Twitter for iPhone   \n",
       "1                    None       False          10021  Twitter for iPhone   \n",
       "2                    None       False           8745  Twitter for iPhone   \n",
       "3                    None       False          15573  Twitter for iPhone   \n",
       "4                    None       False          11107  Twitter for iPhone   \n",
       "\n",
       "                                                text  \n",
       "0  Great news! Tonight, we broke the all-time att...  \n",
       "1  Thank you New Hampshire. KEEP AMERICA GREAT! #...  \n",
       "2                            https://t.co/TCg6dLoIya  \n",
       "3  Walmart, a great indicator as to how the U.S. ...  \n",
       "4  “If they don’t get this Trade Deal with the U....  "
      ]
     },
     "execution_count": 6,
     "metadata": {},
     "output_type": "execute_result"
    }
   ],
   "source": [
    "def load_year(year):\n",
    "    return pd.read_json(f'raw_data/{year}.json', dtype={'id_str':str,'in_reply_to_user_id_str':str})\n",
    "load_year(2019).head()"
   ]
  },
  {
   "cell_type": "code",
   "execution_count": 7,
   "metadata": {},
   "outputs": [
    {
     "name": "stdout",
     "output_type": "stream",
     "text": [
      "CPU times: user 11.2 s, sys: 69.7 ms, total: 11.2 s\n",
      "Wall time: 11.4 s\n"
     ]
    }
   ],
   "source": [
    "%%time\n",
    "df = pd.concat(load_year(year) for year in years)"
   ]
  },
  {
   "cell_type": "code",
   "execution_count": 8,
   "metadata": {},
   "outputs": [
    {
     "data": {
      "text/plain": [
       "(39841, 8)"
      ]
     },
     "execution_count": 8,
     "metadata": {},
     "output_type": "execute_result"
    }
   ],
   "source": [
    "df.shape"
   ]
  },
  {
   "cell_type": "code",
   "execution_count": 9,
   "metadata": {},
   "outputs": [],
   "source": [
    "# clean up text\n",
    "df['text'] = df['text'].str.replace('\\r', '\\n')"
   ]
  },
  {
   "cell_type": "code",
   "execution_count": 10,
   "metadata": {},
   "outputs": [],
   "source": [
    "df.to_csv('trump_tweets.csv', index=False)"
   ]
  }
 ],
 "metadata": {
  "kernelspec": {
   "display_name": "Python 3",
   "language": "python",
   "name": "python3"
  },
  "language_info": {
   "codemirror_mode": {
    "name": "ipython",
    "version": 3
   },
   "file_extension": ".py",
   "mimetype": "text/x-python",
   "name": "python",
   "nbconvert_exporter": "python",
   "pygments_lexer": "ipython3",
   "version": "3.6.7"
  }
 },
 "nbformat": 4,
 "nbformat_minor": 2
}
