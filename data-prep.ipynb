{
 "cells": [
  {
   "cell_type": "code",
   "execution_count": 1,
   "metadata": {},
   "outputs": [],
   "source": [
    "import json\n",
    "import os\n",
    "import urllib.request\n",
    "import pandas as pd"
   ]
  },
  {
   "cell_type": "code",
   "execution_count": 2,
   "metadata": {},
   "outputs": [],
   "source": [
    "%mkdir -p raw_data"
   ]
  },
  {
   "cell_type": "code",
   "execution_count": 3,
   "metadata": {},
   "outputs": [],
   "source": [
    "current_year = 2019"
   ]
  },
  {
   "cell_type": "code",
   "execution_count": 4,
   "metadata": {},
   "outputs": [],
   "source": [
    "# link pattern obtained from https://github.com/bpb27/political_twitter_archive/issues/2\n",
    "url_pattern = 'http://www.trumptwitterarchive.com/data/realdonaldtrump/{year}.json'\n",
    "years = list(range(2010, current_year+1))"
   ]
  },
  {
   "cell_type": "code",
   "execution_count": 5,
   "metadata": {},
   "outputs": [
    {
     "name": "stdout",
     "output_type": "stream",
     "text": [
      "2019\n"
     ]
    }
   ],
   "source": [
    "for year in years:\n",
    "    filename = f'raw_data/{year}.json'\n",
    "    url = url_pattern.format(year=year)\n",
    "    if not os.path.exists(filename) or year == current_year:\n",
    "        print(year)\n",
    "        urllib.request.urlretrieve(url, filename)"
   ]
  },
  {
   "cell_type": "code",
   "execution_count": 6,
   "metadata": {},
   "outputs": [
    {
     "data": {
      "text/html": [
       "<div>\n",
       "<style scoped>\n",
       "    .dataframe tbody tr th:only-of-type {\n",
       "        vertical-align: middle;\n",
       "    }\n",
       "\n",
       "    .dataframe tbody tr th {\n",
       "        vertical-align: top;\n",
       "    }\n",
       "\n",
       "    .dataframe thead th {\n",
       "        text-align: right;\n",
       "    }\n",
       "</style>\n",
       "<table border=\"1\" class=\"dataframe\">\n",
       "  <thead>\n",
       "    <tr style=\"text-align: right;\">\n",
       "      <th></th>\n",
       "      <th>source</th>\n",
       "      <th>id_str</th>\n",
       "      <th>text</th>\n",
       "      <th>created_at</th>\n",
       "      <th>retweet_count</th>\n",
       "      <th>in_reply_to_user_id_str</th>\n",
       "      <th>favorite_count</th>\n",
       "      <th>is_retweet</th>\n",
       "    </tr>\n",
       "  </thead>\n",
       "  <tbody>\n",
       "    <tr>\n",
       "      <th>0</th>\n",
       "      <td>Twitter for iPhone</td>\n",
       "      <td>1191948025746337792</td>\n",
       "      <td>RT @GOPChairwoman: No one energizes our base l...</td>\n",
       "      <td>2019-11-06 05:18:49+00:00</td>\n",
       "      <td>2827</td>\n",
       "      <td>None</td>\n",
       "      <td>0</td>\n",
       "      <td>True</td>\n",
       "    </tr>\n",
       "    <tr>\n",
       "      <th>1</th>\n",
       "      <td>Twitter for iPhone</td>\n",
       "      <td>1191947934734176257</td>\n",
       "      <td>Great going Tate! https://t.co/ghtl3Zmj1z</td>\n",
       "      <td>2019-11-06 05:18:27+00:00</td>\n",
       "      <td>2115</td>\n",
       "      <td>None</td>\n",
       "      <td>8355</td>\n",
       "      <td>False</td>\n",
       "    </tr>\n",
       "    <tr>\n",
       "      <th>2</th>\n",
       "      <td>Twitter for iPhone</td>\n",
       "      <td>1191947091461001216</td>\n",
       "      <td>Our big Kentucky Rally on Monday night had a m...</td>\n",
       "      <td>2019-11-06 05:15:06+00:00</td>\n",
       "      <td>3013</td>\n",
       "      <td>None</td>\n",
       "      <td>11423</td>\n",
       "      <td>False</td>\n",
       "    </tr>\n",
       "    <tr>\n",
       "      <th>3</th>\n",
       "      <td>Twitter for iPhone</td>\n",
       "      <td>1191942342879666178</td>\n",
       "      <td>A lot of winning in Kentucky. Check out the nu...</td>\n",
       "      <td>2019-11-06 04:56:14+00:00</td>\n",
       "      <td>2721</td>\n",
       "      <td>None</td>\n",
       "      <td>9924</td>\n",
       "      <td>False</td>\n",
       "    </tr>\n",
       "    <tr>\n",
       "      <th>4</th>\n",
       "      <td>Twitter for iPhone</td>\n",
       "      <td>1191941077646876672</td>\n",
       "      <td>Congratulations to @tatereeves on winning Gove...</td>\n",
       "      <td>2019-11-06 04:51:12+00:00</td>\n",
       "      <td>4225</td>\n",
       "      <td>None</td>\n",
       "      <td>16999</td>\n",
       "      <td>False</td>\n",
       "    </tr>\n",
       "  </tbody>\n",
       "</table>\n",
       "</div>"
      ],
      "text/plain": [
       "               source               id_str  \\\n",
       "0  Twitter for iPhone  1191948025746337792   \n",
       "1  Twitter for iPhone  1191947934734176257   \n",
       "2  Twitter for iPhone  1191947091461001216   \n",
       "3  Twitter for iPhone  1191942342879666178   \n",
       "4  Twitter for iPhone  1191941077646876672   \n",
       "\n",
       "                                                text  \\\n",
       "0  RT @GOPChairwoman: No one energizes our base l...   \n",
       "1          Great going Tate! https://t.co/ghtl3Zmj1z   \n",
       "2  Our big Kentucky Rally on Monday night had a m...   \n",
       "3  A lot of winning in Kentucky. Check out the nu...   \n",
       "4  Congratulations to @tatereeves on winning Gove...   \n",
       "\n",
       "                 created_at  retweet_count in_reply_to_user_id_str  \\\n",
       "0 2019-11-06 05:18:49+00:00           2827                    None   \n",
       "1 2019-11-06 05:18:27+00:00           2115                    None   \n",
       "2 2019-11-06 05:15:06+00:00           3013                    None   \n",
       "3 2019-11-06 04:56:14+00:00           2721                    None   \n",
       "4 2019-11-06 04:51:12+00:00           4225                    None   \n",
       "\n",
       "   favorite_count  is_retweet  \n",
       "0               0        True  \n",
       "1            8355       False  \n",
       "2           11423       False  \n",
       "3            9924       False  \n",
       "4           16999       False  "
      ]
     },
     "execution_count": 6,
     "metadata": {},
     "output_type": "execute_result"
    }
   ],
   "source": [
    "def load_year(year):\n",
    "    return pd.read_json(f'raw_data/{year}.json', dtype={'id_str':str,'in_reply_to_user_id_str':str})\n",
    "load_year(2019).head()"
   ]
  },
  {
   "cell_type": "code",
   "execution_count": 7,
   "metadata": {},
   "outputs": [
    {
     "name": "stdout",
     "output_type": "stream",
     "text": [
      "CPU times: user 13.5 s, sys: 208 ms, total: 13.7 s\n",
      "Wall time: 14.2 s\n"
     ]
    }
   ],
   "source": [
    "%%time\n",
    "df = pd.concat(load_year(year) for year in years)"
   ]
  },
  {
   "cell_type": "code",
   "execution_count": 8,
   "metadata": {},
   "outputs": [
    {
     "data": {
      "text/plain": [
       "(42267, 8)"
      ]
     },
     "execution_count": 8,
     "metadata": {},
     "output_type": "execute_result"
    }
   ],
   "source": [
    "df.shape"
   ]
  },
  {
   "cell_type": "code",
   "execution_count": 9,
   "metadata": {},
   "outputs": [],
   "source": [
    "# clean up text\n",
    "df['text'] = df['text'].str.replace('\\r', '\\n')"
   ]
  },
  {
   "cell_type": "code",
   "execution_count": 10,
   "metadata": {},
   "outputs": [],
   "source": [
    "df.to_csv('trump_tweets.csv', index=False)"
   ]
  }
 ],
 "metadata": {
  "kernelspec": {
   "display_name": "Python 3",
   "language": "python",
   "name": "python3"
  },
  "language_info": {
   "codemirror_mode": {
    "name": "ipython",
    "version": 3
   },
   "file_extension": ".py",
   "mimetype": "text/x-python",
   "name": "python",
   "nbconvert_exporter": "python",
   "pygments_lexer": "ipython3",
   "version": "3.7.3"
  }
 },
 "nbformat": 4,
 "nbformat_minor": 2
}
